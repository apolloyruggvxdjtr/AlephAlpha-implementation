{
 "cells": [
  {
   "cell_type": "code",
   "execution_count": 1,
   "id": "22115730-730d-48bb-b035-82596f1487a8",
   "metadata": {
    "scrolled": true
   },
   "outputs": [
    {
     "name": "stdout",
     "output_type": "stream",
     "text": [
      "Requirement already satisfied: aleph-alpha-client in e:\\programming\\python\\python311\\lib\\site-packages (7.0.0)\n",
      "Requirement already satisfied: requests>=2.28 in e:\\programming\\python\\python311\\lib\\site-packages (from aleph-alpha-client) (2.31.0)\n",
      "Requirement already satisfied: urllib3>=1.26 in e:\\programming\\python\\python311\\lib\\site-packages (from aleph-alpha-client) (2.2.0)\n",
      "Requirement already satisfied: aiohttp>=3.8.6 in e:\\programming\\python\\python311\\lib\\site-packages (from aleph-alpha-client) (3.9.3)\n",
      "Requirement already satisfied: aiodns>=3.0.0 in e:\\programming\\python\\python311\\lib\\site-packages (from aleph-alpha-client) (3.1.1)\n",
      "Requirement already satisfied: aiohttp-retry>=2.8.3 in e:\\programming\\python\\python311\\lib\\site-packages (from aleph-alpha-client) (2.8.3)\n",
      "Requirement already satisfied: tokenizers>=0.13.2 in e:\\programming\\python\\python311\\lib\\site-packages (from aleph-alpha-client) (0.15.2)\n",
      "Requirement already satisfied: typing-extensions>=4.5.0 in e:\\programming\\python\\python311\\lib\\site-packages (from aleph-alpha-client) (4.9.0)\n",
      "Requirement already satisfied: Pillow>=9.2.0 in e:\\programming\\python\\python311\\lib\\site-packages (from aleph-alpha-client) (10.2.0)\n",
      "Requirement already satisfied: tqdm>=v4.62.0 in e:\\programming\\python\\python311\\lib\\site-packages (from aleph-alpha-client) (4.66.2)\n",
      "Requirement already satisfied: python-liquid>=1.9.4 in e:\\programming\\python\\python311\\lib\\site-packages (from aleph-alpha-client) (1.12.1)\n",
      "Requirement already satisfied: packaging>=23.2 in e:\\programming\\python\\python311\\lib\\site-packages (from aleph-alpha-client) (23.2)\n",
      "Requirement already satisfied: pycares>=4.0.0 in e:\\programming\\python\\python311\\lib\\site-packages (from aiodns>=3.0.0->aleph-alpha-client) (4.4.0)\n",
      "Requirement already satisfied: aiosignal>=1.1.2 in e:\\programming\\python\\python311\\lib\\site-packages (from aiohttp>=3.8.6->aleph-alpha-client) (1.3.1)\n",
      "Requirement already satisfied: attrs>=17.3.0 in e:\\programming\\python\\python311\\lib\\site-packages (from aiohttp>=3.8.6->aleph-alpha-client) (23.2.0)\n",
      "Requirement already satisfied: frozenlist>=1.1.1 in e:\\programming\\python\\python311\\lib\\site-packages (from aiohttp>=3.8.6->aleph-alpha-client) (1.4.1)\n",
      "Requirement already satisfied: multidict<7.0,>=4.5 in e:\\programming\\python\\python311\\lib\\site-packages (from aiohttp>=3.8.6->aleph-alpha-client) (6.0.5)\n",
      "Requirement already satisfied: yarl<2.0,>=1.0 in e:\\programming\\python\\python311\\lib\\site-packages (from aiohttp>=3.8.6->aleph-alpha-client) (1.9.4)\n",
      "Requirement already satisfied: importlib-resources>=5.10.0 in e:\\programming\\python\\python311\\lib\\site-packages (from python-liquid>=1.9.4->aleph-alpha-client) (6.1.1)\n",
      "Requirement already satisfied: python-dateutil>=2.8.1 in e:\\programming\\python\\python311\\lib\\site-packages (from python-liquid>=1.9.4->aleph-alpha-client) (2.8.2)\n",
      "Requirement already satisfied: charset-normalizer<4,>=2 in e:\\programming\\python\\python311\\lib\\site-packages (from requests>=2.28->aleph-alpha-client) (3.3.2)\n",
      "Requirement already satisfied: idna<4,>=2.5 in e:\\programming\\python\\python311\\lib\\site-packages (from requests>=2.28->aleph-alpha-client) (3.6)\n",
      "Requirement already satisfied: certifi>=2017.4.17 in e:\\programming\\python\\python311\\lib\\site-packages (from requests>=2.28->aleph-alpha-client) (2024.2.2)\n",
      "Requirement already satisfied: huggingface_hub<1.0,>=0.16.4 in e:\\programming\\python\\python311\\lib\\site-packages (from tokenizers>=0.13.2->aleph-alpha-client) (0.20.3)\n",
      "Requirement already satisfied: colorama in e:\\programming\\python\\python311\\lib\\site-packages (from tqdm>=v4.62.0->aleph-alpha-client) (0.4.6)\n",
      "Requirement already satisfied: filelock in e:\\programming\\python\\python311\\lib\\site-packages (from huggingface_hub<1.0,>=0.16.4->tokenizers>=0.13.2->aleph-alpha-client) (3.13.1)\n",
      "Requirement already satisfied: fsspec>=2023.5.0 in e:\\programming\\python\\python311\\lib\\site-packages (from huggingface_hub<1.0,>=0.16.4->tokenizers>=0.13.2->aleph-alpha-client) (2024.2.0)\n",
      "Requirement already satisfied: pyyaml>=5.1 in e:\\programming\\python\\python311\\lib\\site-packages (from huggingface_hub<1.0,>=0.16.4->tokenizers>=0.13.2->aleph-alpha-client) (6.0.1)\n",
      "Requirement already satisfied: cffi>=1.5.0 in e:\\programming\\python\\python311\\lib\\site-packages (from pycares>=4.0.0->aiodns>=3.0.0->aleph-alpha-client) (1.16.0)\n",
      "Requirement already satisfied: six>=1.5 in e:\\programming\\python\\python311\\lib\\site-packages (from python-dateutil>=2.8.1->python-liquid>=1.9.4->aleph-alpha-client) (1.16.0)\n",
      "Requirement already satisfied: pycparser in e:\\programming\\python\\python311\\lib\\site-packages (from cffi>=1.5.0->pycares>=4.0.0->aiodns>=3.0.0->aleph-alpha-client) (2.21)\n",
      "Note: you may need to restart the kernel to use updated packages.\n"
     ]
    }
   ],
   "source": [
    "pip install aleph-alpha-client"
   ]
  },
  {
   "cell_type": "code",
   "execution_count": 2,
   "id": "33f18ba7-3fd1-4826-92a8-087d20b89037",
   "metadata": {},
   "outputs": [
    {
     "name": "stdout",
     "output_type": "stream",
     "text": [
      "Requirement already satisfied: langchain_openai in e:\\programming\\python\\python311\\lib\\site-packages (0.0.6)\n",
      "Requirement already satisfied: langchain_core in e:\\programming\\python\\python311\\lib\\site-packages (0.1.23)\n",
      "Requirement already satisfied: numpy<2,>=1 in e:\\programming\\python\\python311\\lib\\site-packages (from langchain_openai) (1.26.4)\n",
      "Requirement already satisfied: openai<2.0.0,>=1.10.0 in e:\\programming\\python\\python311\\lib\\site-packages (from langchain_openai) (1.12.0)\n",
      "Requirement already satisfied: tiktoken<1,>=0.5.2 in e:\\programming\\python\\python311\\lib\\site-packages (from langchain_openai) (0.6.0)\n",
      "Requirement already satisfied: PyYAML>=5.3 in e:\\programming\\python\\python311\\lib\\site-packages (from langchain_core) (6.0.1)\n",
      "Requirement already satisfied: anyio<5,>=3 in e:\\programming\\python\\python311\\lib\\site-packages (from langchain_core) (4.2.0)\n",
      "Requirement already satisfied: jsonpatch<2.0,>=1.33 in e:\\programming\\python\\python311\\lib\\site-packages (from langchain_core) (1.33)\n",
      "Requirement already satisfied: langsmith<0.0.88,>=0.0.87 in e:\\programming\\python\\python311\\lib\\site-packages (from langchain_core) (0.0.87)\n",
      "Requirement already satisfied: packaging<24.0,>=23.2 in e:\\programming\\python\\python311\\lib\\site-packages (from langchain_core) (23.2)\n",
      "Requirement already satisfied: pydantic<3,>=1 in e:\\programming\\python\\python311\\lib\\site-packages (from langchain_core) (2.6.1)\n",
      "Requirement already satisfied: requests<3,>=2 in e:\\programming\\python\\python311\\lib\\site-packages (from langchain_core) (2.31.0)\n",
      "Requirement already satisfied: tenacity<9.0.0,>=8.1.0 in e:\\programming\\python\\python311\\lib\\site-packages (from langchain_core) (8.2.3)\n",
      "Requirement already satisfied: idna>=2.8 in e:\\programming\\python\\python311\\lib\\site-packages (from anyio<5,>=3->langchain_core) (3.6)\n",
      "Requirement already satisfied: sniffio>=1.1 in e:\\programming\\python\\python311\\lib\\site-packages (from anyio<5,>=3->langchain_core) (1.3.0)\n",
      "Requirement already satisfied: jsonpointer>=1.9 in e:\\programming\\python\\python311\\lib\\site-packages (from jsonpatch<2.0,>=1.33->langchain_core) (2.4)\n",
      "Requirement already satisfied: distro<2,>=1.7.0 in e:\\programming\\python\\python311\\lib\\site-packages (from openai<2.0.0,>=1.10.0->langchain_openai) (1.9.0)\n",
      "Requirement already satisfied: httpx<1,>=0.23.0 in e:\\programming\\python\\python311\\lib\\site-packages (from openai<2.0.0,>=1.10.0->langchain_openai) (0.26.0)\n",
      "Requirement already satisfied: tqdm>4 in e:\\programming\\python\\python311\\lib\\site-packages (from openai<2.0.0,>=1.10.0->langchain_openai) (4.66.2)\n",
      "Requirement already satisfied: typing-extensions<5,>=4.7 in e:\\programming\\python\\python311\\lib\\site-packages (from openai<2.0.0,>=1.10.0->langchain_openai) (4.9.0)\n",
      "Requirement already satisfied: annotated-types>=0.4.0 in e:\\programming\\python\\python311\\lib\\site-packages (from pydantic<3,>=1->langchain_core) (0.6.0)\n",
      "Requirement already satisfied: pydantic-core==2.16.2 in e:\\programming\\python\\python311\\lib\\site-packages (from pydantic<3,>=1->langchain_core) (2.16.2)\n",
      "Requirement already satisfied: charset-normalizer<4,>=2 in e:\\programming\\python\\python311\\lib\\site-packages (from requests<3,>=2->langchain_core) (3.3.2)\n",
      "Requirement already satisfied: urllib3<3,>=1.21.1 in e:\\programming\\python\\python311\\lib\\site-packages (from requests<3,>=2->langchain_core) (2.2.0)\n",
      "Requirement already satisfied: certifi>=2017.4.17 in e:\\programming\\python\\python311\\lib\\site-packages (from requests<3,>=2->langchain_core) (2024.2.2)\n",
      "Requirement already satisfied: regex>=2022.1.18 in e:\\programming\\python\\python311\\lib\\site-packages (from tiktoken<1,>=0.5.2->langchain_openai) (2023.12.25)\n",
      "Requirement already satisfied: httpcore==1.* in e:\\programming\\python\\python311\\lib\\site-packages (from httpx<1,>=0.23.0->openai<2.0.0,>=1.10.0->langchain_openai) (1.0.3)\n",
      "Requirement already satisfied: h11<0.15,>=0.13 in e:\\programming\\python\\python311\\lib\\site-packages (from httpcore==1.*->httpx<1,>=0.23.0->openai<2.0.0,>=1.10.0->langchain_openai) (0.14.0)\n",
      "Requirement already satisfied: colorama in e:\\programming\\python\\python311\\lib\\site-packages (from tqdm>4->openai<2.0.0,>=1.10.0->langchain_openai) (0.4.6)\n",
      "Note: you may need to restart the kernel to use updated packages.\n"
     ]
    }
   ],
   "source": [
    "pip install langchain_openai langchain_core"
   ]
  },
  {
   "cell_type": "code",
   "execution_count": 49,
   "id": "44398c6c-bc8f-4b7a-9fc4-70d4a3c18944",
   "metadata": {},
   "outputs": [
    {
     "name": "stdout",
     "output_type": "stream",
     "text": [
      "Collecting langserve[all]\n",
      "  Downloading langserve-0.0.41-py3-none-any.whl.metadata (37 kB)\n",
      "Collecting fastapi<1,>=0.90.1 (from langserve[all])\n",
      "  Downloading fastapi-0.109.2-py3-none-any.whl.metadata (25 kB)\n",
      "Requirement already satisfied: httpx>=0.23.0 in e:\\programming\\python\\python311\\lib\\site-packages (from langserve[all]) (0.26.0)\n",
      "Collecting httpx-sse>=0.3.1 (from langserve[all])\n",
      "  Downloading httpx_sse-0.4.0-py3-none-any.whl.metadata (9.0 kB)\n",
      "Requirement already satisfied: langchain>=0.0.333 in e:\\programming\\python\\python311\\lib\\site-packages (from langserve[all]) (0.1.7)\n",
      "Collecting orjson>=2 (from langserve[all])\n",
      "  Downloading orjson-3.9.14-cp311-none-win_amd64.whl.metadata (50 kB)\n",
      "     ---------------------------------------- 0.0/50.6 kB ? eta -:--:--\n",
      "     -------- ------------------------------- 10.2/50.6 kB ? eta -:--:--\n",
      "     -------------------------------------- 50.6/50.6 kB 650.9 kB/s eta 0:00:00\n",
      "Requirement already satisfied: pydantic>=1 in e:\\programming\\python\\python311\\lib\\site-packages (from langserve[all]) (2.6.1)\n",
      "Collecting sse-starlette<2.0.0,>=1.3.0 (from langserve[all])\n",
      "  Downloading sse_starlette-1.8.2-py3-none-any.whl.metadata (5.4 kB)\n",
      "Collecting starlette<0.37.0,>=0.36.3 (from fastapi<1,>=0.90.1->langserve[all])\n",
      "  Downloading starlette-0.36.3-py3-none-any.whl.metadata (5.9 kB)\n",
      "Requirement already satisfied: typing-extensions>=4.8.0 in e:\\programming\\python\\python311\\lib\\site-packages (from fastapi<1,>=0.90.1->langserve[all]) (4.9.0)\n",
      "Requirement already satisfied: anyio in e:\\programming\\python\\python311\\lib\\site-packages (from httpx>=0.23.0->langserve[all]) (4.2.0)\n",
      "Requirement already satisfied: certifi in e:\\programming\\python\\python311\\lib\\site-packages (from httpx>=0.23.0->langserve[all]) (2024.2.2)\n",
      "Requirement already satisfied: httpcore==1.* in e:\\programming\\python\\python311\\lib\\site-packages (from httpx>=0.23.0->langserve[all]) (1.0.3)\n",
      "Requirement already satisfied: idna in e:\\programming\\python\\python311\\lib\\site-packages (from httpx>=0.23.0->langserve[all]) (3.6)\n",
      "Requirement already satisfied: sniffio in e:\\programming\\python\\python311\\lib\\site-packages (from httpx>=0.23.0->langserve[all]) (1.3.0)\n",
      "Requirement already satisfied: h11<0.15,>=0.13 in e:\\programming\\python\\python311\\lib\\site-packages (from httpcore==1.*->httpx>=0.23.0->langserve[all]) (0.14.0)\n",
      "Requirement already satisfied: PyYAML>=5.3 in e:\\programming\\python\\python311\\lib\\site-packages (from langchain>=0.0.333->langserve[all]) (6.0.1)\n",
      "Requirement already satisfied: SQLAlchemy<3,>=1.4 in e:\\programming\\python\\python311\\lib\\site-packages (from langchain>=0.0.333->langserve[all]) (2.0.27)\n",
      "Requirement already satisfied: aiohttp<4.0.0,>=3.8.3 in e:\\programming\\python\\python311\\lib\\site-packages (from langchain>=0.0.333->langserve[all]) (3.9.3)\n",
      "Requirement already satisfied: dataclasses-json<0.7,>=0.5.7 in e:\\programming\\python\\python311\\lib\\site-packages (from langchain>=0.0.333->langserve[all]) (0.6.4)\n",
      "Requirement already satisfied: jsonpatch<2.0,>=1.33 in e:\\programming\\python\\python311\\lib\\site-packages (from langchain>=0.0.333->langserve[all]) (1.33)\n",
      "Requirement already satisfied: langchain-community<0.1,>=0.0.20 in e:\\programming\\python\\python311\\lib\\site-packages (from langchain>=0.0.333->langserve[all]) (0.0.20)\n",
      "Requirement already satisfied: langchain-core<0.2,>=0.1.22 in e:\\programming\\python\\python311\\lib\\site-packages (from langchain>=0.0.333->langserve[all]) (0.1.23)\n",
      "Requirement already satisfied: langsmith<0.1,>=0.0.83 in e:\\programming\\python\\python311\\lib\\site-packages (from langchain>=0.0.333->langserve[all]) (0.0.87)\n",
      "Requirement already satisfied: numpy<2,>=1 in e:\\programming\\python\\python311\\lib\\site-packages (from langchain>=0.0.333->langserve[all]) (1.26.4)\n",
      "Requirement already satisfied: requests<3,>=2 in e:\\programming\\python\\python311\\lib\\site-packages (from langchain>=0.0.333->langserve[all]) (2.31.0)\n",
      "Requirement already satisfied: tenacity<9.0.0,>=8.1.0 in e:\\programming\\python\\python311\\lib\\site-packages (from langchain>=0.0.333->langserve[all]) (8.2.3)\n",
      "Requirement already satisfied: annotated-types>=0.4.0 in e:\\programming\\python\\python311\\lib\\site-packages (from pydantic>=1->langserve[all]) (0.6.0)\n",
      "Requirement already satisfied: pydantic-core==2.16.2 in e:\\programming\\python\\python311\\lib\\site-packages (from pydantic>=1->langserve[all]) (2.16.2)\n",
      "Collecting uvicorn (from sse-starlette<2.0.0,>=1.3.0->langserve[all])\n",
      "  Downloading uvicorn-0.27.1-py3-none-any.whl.metadata (6.3 kB)\n",
      "Requirement already satisfied: aiosignal>=1.1.2 in e:\\programming\\python\\python311\\lib\\site-packages (from aiohttp<4.0.0,>=3.8.3->langchain>=0.0.333->langserve[all]) (1.3.1)\n",
      "Requirement already satisfied: attrs>=17.3.0 in e:\\programming\\python\\python311\\lib\\site-packages (from aiohttp<4.0.0,>=3.8.3->langchain>=0.0.333->langserve[all]) (23.2.0)\n",
      "Requirement already satisfied: frozenlist>=1.1.1 in e:\\programming\\python\\python311\\lib\\site-packages (from aiohttp<4.0.0,>=3.8.3->langchain>=0.0.333->langserve[all]) (1.4.1)\n",
      "Requirement already satisfied: multidict<7.0,>=4.5 in e:\\programming\\python\\python311\\lib\\site-packages (from aiohttp<4.0.0,>=3.8.3->langchain>=0.0.333->langserve[all]) (6.0.5)\n",
      "Requirement already satisfied: yarl<2.0,>=1.0 in e:\\programming\\python\\python311\\lib\\site-packages (from aiohttp<4.0.0,>=3.8.3->langchain>=0.0.333->langserve[all]) (1.9.4)\n",
      "Requirement already satisfied: marshmallow<4.0.0,>=3.18.0 in e:\\programming\\python\\python311\\lib\\site-packages (from dataclasses-json<0.7,>=0.5.7->langchain>=0.0.333->langserve[all]) (3.20.2)\n",
      "Requirement already satisfied: typing-inspect<1,>=0.4.0 in e:\\programming\\python\\python311\\lib\\site-packages (from dataclasses-json<0.7,>=0.5.7->langchain>=0.0.333->langserve[all]) (0.9.0)\n",
      "Requirement already satisfied: jsonpointer>=1.9 in e:\\programming\\python\\python311\\lib\\site-packages (from jsonpatch<2.0,>=1.33->langchain>=0.0.333->langserve[all]) (2.4)\n",
      "Requirement already satisfied: packaging<24.0,>=23.2 in e:\\programming\\python\\python311\\lib\\site-packages (from langchain-core<0.2,>=0.1.22->langchain>=0.0.333->langserve[all]) (23.2)\n",
      "Requirement already satisfied: charset-normalizer<4,>=2 in e:\\programming\\python\\python311\\lib\\site-packages (from requests<3,>=2->langchain>=0.0.333->langserve[all]) (3.3.2)\n",
      "Requirement already satisfied: urllib3<3,>=1.21.1 in e:\\programming\\python\\python311\\lib\\site-packages (from requests<3,>=2->langchain>=0.0.333->langserve[all]) (2.2.0)\n",
      "Requirement already satisfied: greenlet!=0.4.17 in e:\\programming\\python\\python311\\lib\\site-packages (from SQLAlchemy<3,>=1.4->langchain>=0.0.333->langserve[all]) (3.0.3)\n",
      "Collecting click>=7.0 (from uvicorn->sse-starlette<2.0.0,>=1.3.0->langserve[all])\n",
      "  Downloading click-8.1.7-py3-none-any.whl.metadata (3.0 kB)\n",
      "Requirement already satisfied: colorama in e:\\programming\\python\\python311\\lib\\site-packages (from click>=7.0->uvicorn->sse-starlette<2.0.0,>=1.3.0->langserve[all]) (0.4.6)\n",
      "Requirement already satisfied: mypy-extensions>=0.3.0 in e:\\programming\\python\\python311\\lib\\site-packages (from typing-inspect<1,>=0.4.0->dataclasses-json<0.7,>=0.5.7->langchain>=0.0.333->langserve[all]) (1.0.0)\n",
      "Downloading fastapi-0.109.2-py3-none-any.whl (92 kB)\n",
      "   ---------------------------------------- 0.0/92.1 kB ? eta -:--:--\n",
      "   ---------------------------------------- 0.0/92.1 kB ? eta -:--:--\n",
      "   ---- ----------------------------------- 10.2/92.1 kB ? eta -:--:--\n",
      "   ---- ----------------------------------- 10.2/92.1 kB ? eta -:--:--\n",
      "   ------------- -------------------------- 30.7/92.1 kB 325.1 kB/s eta 0:00:01\n",
      "   ------------- -------------------------- 30.7/92.1 kB 325.1 kB/s eta 0:00:01\n",
      "   ------------- -------------------------- 30.7/92.1 kB 325.1 kB/s eta 0:00:01\n",
      "   ------------- -------------------------- 30.7/92.1 kB 325.1 kB/s eta 0:00:01\n",
      "   ------------- -------------------------- 30.7/92.1 kB 325.1 kB/s eta 0:00:01\n",
      "   ----------------- ---------------------- 41.0/92.1 kB 108.9 kB/s eta 0:00:01\n",
      "   -------------------------- ------------- 61.4/92.1 kB 148.8 kB/s eta 0:00:01\n",
      "   -------------------------- ------------- 61.4/92.1 kB 148.8 kB/s eta 0:00:01\n",
      "   ----------------------------------- ---- 81.9/92.1 kB 158.2 kB/s eta 0:00:01\n",
      "   ---------------------------------------- 92.1/92.1 kB 174.5 kB/s eta 0:00:00\n",
      "Downloading httpx_sse-0.4.0-py3-none-any.whl (7.8 kB)\n",
      "Downloading orjson-3.9.14-cp311-none-win_amd64.whl (139 kB)\n",
      "   ---------------------------------------- 0.0/139.9 kB ? eta -:--:--\n",
      "   ---------------------------------------- 0.0/139.9 kB ? eta -:--:--\n",
      "   -- ------------------------------------- 10.2/139.9 kB ? eta -:--:--\n",
      "   -------- ------------------------------ 30.7/139.9 kB 435.7 kB/s eta 0:00:01\n",
      "   ----------- --------------------------- 41.0/139.9 kB 326.8 kB/s eta 0:00:01\n",
      "   ----------------- --------------------- 61.4/139.9 kB 365.7 kB/s eta 0:00:01\n",
      "   ---------------------- ---------------- 81.9/139.9 kB 383.3 kB/s eta 0:00:01\n",
      "   ------------------------------ ------- 112.6/139.9 kB 386.4 kB/s eta 0:00:01\n",
      "   ------------------------------------ - 133.1/139.9 kB 393.8 kB/s eta 0:00:01\n",
      "   -------------------------------------- 139.9/139.9 kB 395.4 kB/s eta 0:00:00\n",
      "Downloading sse_starlette-1.8.2-py3-none-any.whl (8.9 kB)\n",
      "Downloading langserve-0.0.41-py3-none-any.whl (512 kB)\n",
      "   ---------------------------------------- 0.0/512.8 kB ? eta -:--:--\n",
      "    --------------------------------------- 10.2/512.8 kB ? eta -:--:--\n",
      "   -- ------------------------------------ 30.7/512.8 kB 435.7 kB/s eta 0:00:02\n",
      "   ---- ---------------------------------- 61.4/512.8 kB 469.7 kB/s eta 0:00:01\n",
      "   ------ -------------------------------- 81.9/512.8 kB 459.5 kB/s eta 0:00:01\n",
      "   ------- ------------------------------- 92.2/512.8 kB 435.7 kB/s eta 0:00:01\n",
      "   --------- ---------------------------- 122.9/512.8 kB 450.6 kB/s eta 0:00:01\n",
      "   ---------- --------------------------- 143.4/512.8 kB 473.7 kB/s eta 0:00:01\n",
      "   ------------ ------------------------- 174.1/512.8 kB 476.3 kB/s eta 0:00:01\n",
      "   -------------- ----------------------- 194.6/512.8 kB 491.5 kB/s eta 0:00:01\n",
      "   ---------------- --------------------- 225.3/512.8 kB 491.0 kB/s eta 0:00:01\n",
      "   ------------------ ------------------- 245.8/512.8 kB 502.2 kB/s eta 0:00:01\n",
      "   --------------------- ---------------- 286.7/512.8 kB 520.7 kB/s eta 0:00:01\n",
      "   ----------------------- -------------- 317.4/512.8 kB 531.5 kB/s eta 0:00:01\n",
      "   ------------------------- ------------ 348.2/512.8 kB 540.7 kB/s eta 0:00:01\n",
      "   ---------------------------- --------- 378.9/512.8 kB 562.0 kB/s eta 0:00:01\n",
      "   ------------------------------ ------- 409.6/512.8 kB 568.1 kB/s eta 0:00:01\n",
      "   ---------------------------------- --- 460.8/512.8 kB 588.2 kB/s eta 0:00:01\n",
      "   -------------------------------------  512.0/512.8 kB 617.2 kB/s eta 0:00:01\n",
      "   -------------------------------------- 512.8/512.8 kB 607.0 kB/s eta 0:00:00\n",
      "Downloading starlette-0.36.3-py3-none-any.whl (71 kB)\n",
      "   ---------------------------------------- 0.0/71.5 kB ? eta -:--:--\n",
      "   ----------------- ---------------------- 30.7/71.5 kB 1.3 MB/s eta 0:00:01\n",
      "   ---------------------------------- ----- 61.4/71.5 kB 1.1 MB/s eta 0:00:01\n",
      "   ---------------------------------------- 71.5/71.5 kB 972.1 kB/s eta 0:00:00\n",
      "Downloading uvicorn-0.27.1-py3-none-any.whl (60 kB)\n",
      "   ---------------------------------------- 0.0/60.8 kB ? eta -:--:--\n",
      "   -------------------- ------------------- 30.7/60.8 kB 1.3 MB/s eta 0:00:01\n",
      "   ---------------------------------------- 60.8/60.8 kB 815.6 kB/s eta 0:00:00\n",
      "Downloading click-8.1.7-py3-none-any.whl (97 kB)\n",
      "   ---------------------------------------- 0.0/97.9 kB ? eta -:--:--\n",
      "   ------------ --------------------------- 30.7/97.9 kB 1.3 MB/s eta 0:00:01\n",
      "   ------------------------- -------------- 61.4/97.9 kB 812.7 kB/s eta 0:00:01\n",
      "   ---------------------------------------- 97.9/97.9 kB 797.3 kB/s eta 0:00:00\n",
      "Installing collected packages: orjson, httpx-sse, click, uvicorn, starlette, fastapi, sse-starlette, langserve\n",
      "Successfully installed click-8.1.7 fastapi-0.109.2 httpx-sse-0.4.0 langserve-0.0.41 orjson-3.9.14 sse-starlette-1.8.2 starlette-0.36.3 uvicorn-0.27.1\n",
      "Note: you may need to restart the kernel to use updated packages.\n"
     ]
    }
   ],
   "source": [
    "pip install \"langserve[all]\""
   ]
  },
  {
   "cell_type": "code",
   "execution_count": 9,
   "id": "639a9e23-8a90-4061-9c50-bb3ef2c77541",
   "metadata": {},
   "outputs": [],
   "source": [
    "import os\n",
    "os.environ[\"LANGCHAIN_TRACING_V2\"] = \"false\"\n",
    "ALEPH_ALPHA_API_KEY = \"KEY_HERE\"\n",
    "\n",
    "from langchain.prompts import PromptTemplate\n",
    "from langchain_community.llms import AlephAlpha"
   ]
  },
  {
   "cell_type": "code",
   "execution_count": 45,
   "id": "4a54ca02-a2f8-43a3-aead-9f42109df507",
   "metadata": {},
   "outputs": [],
   "source": [
    "def start_story(initial_story):\n",
    "    llm_story = AlephAlpha(\n",
    "        model=\"luminous-extended\",\n",
    "        maximum_tokens=350,\n",
    "        stop_sequences=[\"###\", \"\\n\"],\n",
    "        best_of = 2,\n",
    "        top_k = 10,\n",
    "        temperature  = 0,\n",
    "        aleph_alpha_api_key=ALEPH_ALPHA_API_KEY,\n",
    "    )\n",
    "    template_story = \"\"\"###\n",
    "    Beschreibung: Eine Geschichte über Elena und Edward mit einer armen Familie in Heilbronn\n",
    "    Geschichte: Elena und Edward liebten es, Flaschen zu sammeln und sie gegen Geld in den Supermarkt zu bringen. Eines Tages fanden sie einen Schatz neben dem Heilbronner Markt! Von da an lebten sie ein glückliches Leben!\n",
    "    ###\n",
    "    Beschreibung: Eine Geschichte über Simon, der sich auf seine Geburtstagsparty freut. \n",
    "    Geschichte: Simon wartet ungeduldig auf seine Geburtstagsparty. Er hat auch schon eine Liste mit den eingeladenen Freunden zusammengestellt und freut sich schon sehr auf sie. Endlich ist es soweit! Am Samstagmorgen steigt er in den Zug und ist wenige Stunden später in Heilbronn, wo seine Freunde bereits auf ihn warten! Das beste Geschenk war eine X-Box von seinem Vater!\n",
    "    ###\n",
    "    Beschreibung: Eine Geschichte in der die Eltern von Sara ihren Geburtstag vergessen hat und sie aus Frust geweint hat. Am ende gibt es ein Happy End\n",
    "    Geschichte:  Sara ist traurig, weil ihre Eltern ihren Geburtstag vergessen haben. Sie weint und weint. Als sie sich beruhigt hat, geht sie in ihr Zimmer und sieht das es nur ein Spass war und alles voller Geschenke ist!. Sie freut sich sehr über die Geschenke und ist glücklich!\n",
    "    ###\n",
    "    Beschreibung:  Eine ausführliche Geschichte über Geschwister die einen ganzen Tag verbringen voller toller abwechslungsreichen Aktivitäten\n",
    "    Geschichte: Die Zwillingsbrüder Max und Moritz haben einen ganzen Tag Zeit miteinander. Sie gehen zusammen in die Schule, spielen zusammen Fußball, machen einen Ausflug mit der Familie und gehen danach noch in den Zoo! Im Zoo finden sie einen 10 Euro Schein von dem sie sich ein Eis kaufen. Am Ende des Tages sind sie erschöpft und schlafen ein!\n",
    "    ###\n",
    "    Beschreibung:  {initial_story}\n",
    "    Geschichte:\"\"\"    \n",
    "    prompt_story = PromptTemplate.from_template(template_story)\n",
    "    llm_chain_story = prompt_story | llm_story   \n",
    "    return llm_chain_story.invoke({\"initial_story\": initial_story}).strip()"
   ]
  },
  {
   "cell_type": "code",
   "execution_count": 46,
   "id": "a03c94d2-b319-44ce-89ac-009f13e26c54",
   "metadata": {},
   "outputs": [],
   "source": [
    "\n",
    "def continue_story(story_to_continue):    \n",
    "    llm = AlephAlpha(\n",
    "        model=\"luminous-supreme-control\",\n",
    "        maximum_tokens=250,\n",
    "        stop_sequences=[\"###\", \"\\n\"],\n",
    "        best_of = 2,\n",
    "        top_k = 0,\n",
    "        temperature  = 0.58,\n",
    "        aleph_alpha_api_key=ALEPH_ALPHA_API_KEY,\n",
    "    )\n",
    "    template= \"\"\"###\n",
    "    Geschichte weitererzählen:{story_to_continue}\"\"\"\n",
    "    prompt  = PromptTemplate.from_template(template)\n",
    "    llm_chain = prompt | llm\n",
    "    return llm_chain.invoke({\"story_to_continue\": story_to_continue.strip()})"
   ]
  },
  {
   "cell_type": "code",
   "execution_count": 47,
   "id": "97730da9-96ab-4917-b56c-f00f6ba706e9",
   "metadata": {},
   "outputs": [
    {
     "name": "stdout",
     "output_type": "stream",
     "text": [
      "Initialgeschichte: In der Geschichte wird eine Geschichte über Thomas Alva Edison erzählt. Thomas Alva Edison hat viele Erfindungen gemacht. Als er in der Schulzeit noch ein Kind war, hat er sich schon für die Elektrizität begeistert. Er war ein sehr schlauer Junge und hatte viele Ideen, wie er die Elektrizität nutzen konnte, um Menschen das Leben erleichtern zu können. Zum Beispiel hat er sich gedacht, dass er ein Gerät herstellen sollte, das den Menschen die Haare föhnen sollte. So hat er sich an die Arbeit gemacht. Er hat viele Versuche gemacht, um die Haarbürsten zum Glätten des Haares nutzbar zu machen. Er wollte aber auch, dass das Gerät billig hergestellt werden sollte, weil viele Menschen sich keine teure Haarbürste kaufen können. Nach langen Versuchen und viel Anstrengung, hat er das Glätten der Haare mit einem elektrischen Licht erreicht. Er war sehr stolz darauf, denn er hat sich mit der Zeit einen Namen als Erfinder gemacht. Er wurde später als Thomas Alva Edison bekannt, weil er die elektrische Glühlampe erfunden hat.\n"
     ]
    }
   ],
   "source": [
    "initial_story_result=start_story(\"Eine ausführliche Geschichte, wie es ein junge geschafft hat erfinder zu werden\")\n",
    "print(\"Initialgeschichte:\",initial_story_result)"
   ]
  },
  {
   "cell_type": "code",
   "execution_count": 48,
   "id": "adb5d653-1511-443b-9208-d3953d5b0f74",
   "metadata": {},
   "outputs": [
    {
     "name": "stdout",
     "output_type": "stream",
     "text": [
      "Initialgeschichte: In der Geschichte wird eine Geschichte über Thomas Alva Edison erzählt. Thomas Alva Edison hat viele Erfindungen gemacht. Als er in der Schulzeit noch ein Kind war, hat er sich schon für die Elektrizität begeistert. Er war ein sehr schlauer Junge und hatte viele Ideen, wie er die Elektrizität nutzen konnte, um Menschen das Leben erleichtern zu können. Zum Beispiel hat er sich gedacht, dass er ein Gerät herstellen sollte, das den Menschen die Haare föhnen sollte. So hat er sich an die Arbeit gemacht. Er hat viele Versuche gemacht, um die Haarbürsten zum Glätten des Haares nutzbar zu machen. Er wollte aber auch, dass das Gerät billig hergestellt werden sollte, weil viele Menschen sich keine teure Haarbürste kaufen können. Nach langen Versuchen und viel Anstrengung, hat er das Glätten der Haare mit einem elektrischen Licht erreicht. Er war sehr stolz darauf, denn er hat sich mit der Zeit einen Namen als Erfinder gemacht. Er wurde später als Thomas Alva Edison bekannt, weil er die elektrische Glühlampe erfunden hat.\n",
      "Fortsetzung:  Er war ein sehr kluger Mann und hat vielen Menschen das Leben durch seine Erfindungen erleichtert.\n"
     ]
    }
   ],
   "source": [
    "print(\"Initialgeschichte:\",initial_story_result)\n",
    "next_part=continue_story(initial_story_result)\n",
    "print(\"Fortsetzung:\",next_part)"
   ]
  },
  {
   "cell_type": "code",
   "execution_count": null,
   "id": "2ebe0032-5098-4b69-97c2-5a5b95113073",
   "metadata": {},
   "outputs": [],
   "source": []
  }
 ],
 "metadata": {
  "kernelspec": {
   "display_name": "Python 3 (ipykernel)",
   "language": "python",
   "name": "python3"
  },
  "language_info": {
   "codemirror_mode": {
    "name": "ipython",
    "version": 3
   },
   "file_extension": ".py",
   "mimetype": "text/x-python",
   "name": "python",
   "nbconvert_exporter": "python",
   "pygments_lexer": "ipython3",
   "version": "3.11.8"
  }
 },
 "nbformat": 4,
 "nbformat_minor": 5
}
